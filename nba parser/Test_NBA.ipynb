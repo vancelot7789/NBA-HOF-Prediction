{
 "cells": [
  {
   "cell_type": "code",
   "execution_count": 1,
   "metadata": {},
   "outputs": [],
   "source": [
    "import numpy as np\n",
    "import pandas as pd\n",
    "player = pd.read_csv('nba_player_file_new.csv')"
   ]
  },
  {
   "cell_type": "code",
   "execution_count": 2,
   "metadata": {},
   "outputs": [],
   "source": [
    "player = player.replace('-',np.nan)"
   ]
  },
  {
   "cell_type": "code",
   "execution_count": 3,
   "metadata": {},
   "outputs": [
    {
     "name": "stdout",
     "output_type": "stream",
     "text": [
      "                     Name  Pos  Active  HoF  All_Star  All_Nba  All_Def  \\\n",
      "0          Alaa Abdelnaby    4       0    0         0        0        0   \n",
      "1         Zaid Abdul-Aziz    5       0    0         0        0        0   \n",
      "2     Kareem Abdul-Jabbar    5       0    1        19       15       11   \n",
      "3      Mahmoud Abdul-Rauf    1       0    0         0        0        0   \n",
      "4       Tariq Abdul-Wahad    2       0    0         0        0        0   \n",
      "5     Shareef Abdur-Rahim    3       0    0         1        0        0   \n",
      "6           Tom Abernethy    3       0    0         0        0        0   \n",
      "7             Forest Able    1       0    0         0        0        0   \n",
      "8          John Abramovic    4       0    0         0        0        0   \n",
      "9            Alex Abrines    2       1    0         0        0        0   \n",
      "10             Alex Acker    2       0    0         0        0        0   \n",
      "11           Don Ackerman    1       0    0         0        0        0   \n",
      "12             Mark Acres    5       0    0         0        0        0   \n",
      "13              Bud Acton    3       0    0         0        0        0   \n",
      "14             Quincy Acy    3       0    0         0        0        0   \n",
      "15            Alvan Adams    4       0    0         1        0        0   \n",
      "16              Don Adams    3       0    0         0        0        0   \n",
      "17           George Adams    3       0    0         0        0        0   \n",
      "18           Hassan Adams    2       0    0         0        0        0   \n",
      "19           Jaylen Adams    1       1    0         0        0        0   \n",
      "20           Jordan Adams    2       0    0         0        0        0   \n",
      "21          Michael Adams    1       0    0         1        0        0   \n",
      "22           Steven Adams    5       1    0         0        0        0   \n",
      "23         Rafael Addison    3       0    0         0        0        0   \n",
      "24            Bam Adebayo    5       1    0         0        0        0   \n",
      "25           Rick Adelman    1       0    0         0        0        0   \n",
      "26            Jeff Adrien    4       0    0         0        0        0   \n",
      "27          Arron Afflalo    2       0    0         0        0        0   \n",
      "28           Maurice Ager    2       0    0         0        0        0   \n",
      "29           Mark Aguirre    3       0    0         3        0        0   \n",
      "...                   ...  ...     ...  ...       ...      ...      ...   \n",
      "4622            Joe Young    1       0    0         0        0        0   \n",
      "4623       Korleone Young    3       0    0         0        0        0   \n",
      "4624        Michael Young    3       0    0         0        0        0   \n",
      "4625           Nick Young    2       1    0         0        0        0   \n",
      "4626          Perry Young    2       0    0         0        0        0   \n",
      "4627            Sam Young    3       0    0         0        0        0   \n",
      "4628       Thaddeus Young    4       1    0         0        0        0   \n",
      "4629            Tim Young    5       0    0         0        0        0   \n",
      "4630           Trae Young    1       1    0         0        0        0   \n",
      "4631              Sun Yue    2       0    0         0        0        0   \n",
      "4632        Max Zaslofsky    2       0    0         1        0        0   \n",
      "4633         Zeke Zawoluk    4       0    0         0        0        0   \n",
      "4634          Cody Zeller    5       1    0         0        0        0   \n",
      "4635          Dave Zeller    1       0    0         0        0        0   \n",
      "4636          Gary Zeller    2       0    0         0        0        0   \n",
      "4637         Harry Zeller    5       0    0         0        0        0   \n",
      "4638          Luke Zeller    5       0    0         0        0        0   \n",
      "4639         Tyler Zeller    5       0    0         0        0        0   \n",
      "4640            Tony Zeno    3       0    0         0        0        0   \n",
      "4641     Phil Zevenbergen    5       0    0         0        0        0   \n",
      "4642          Wang Zhizhi    5       0    0         0        0        0   \n",
      "4643         George Zidek    5       0    0         0        0        0   \n",
      "4644    Derrick Zimmerman    1       0    0         0        0        0   \n",
      "4645    Stephen Zimmerman    5       0    0         0        0        0   \n",
      "4646          Paul Zipser    3       0    0         0        0        0   \n",
      "4647           Ante Zizic    5       1    0         0        0        0   \n",
      "4648             Jim Zoet    5       0    0         0        0        0   \n",
      "4649            Bill Zopf    1       0    0         0        0        0   \n",
      "4650          Ivica Zubac    5       1    0         0        0        0   \n",
      "4651           Matt Zunic    2       0    0         0        0        0   \n",
      "\n",
      "      Score_Champ  Assit_Champ  Trb_Champ     ...       FG%    FT%   3P%  \\\n",
      "0               0            0          0     ...      50.2   70.1   0.0   \n",
      "1               0            0          0     ...      42.8   72.8   NaN   \n",
      "2               2            0          1     ...      55.9   72.1   5.6   \n",
      "3               0            0          0     ...      44.2   90.5  35.4   \n",
      "4               0            0          0     ...      41.7   70.3  23.7   \n",
      "5               0            0          0     ...      47.2   81.0  29.7   \n",
      "6               0            0          0     ...      49.2   74.7   0.0   \n",
      "7               0            0          0     ...       0.0    NaN   NaN   \n",
      "8               0            0          0     ...      23.7   68.6   NaN   \n",
      "9               0            0          0     ...      38.7   88.0  36.8   \n",
      "10              0            0          0     ...      37.0   50.0  32.0   \n",
      "11              0            0          0     ...      22.2   53.6   NaN   \n",
      "12              0            0          0     ...      50.6   66.5  53.8   \n",
      "13              0            0          0     ...      39.2   65.5   NaN   \n",
      "14              0            0          0     ...      44.7   76.1  35.6   \n",
      "15              0            0          0     ...      49.8   78.8  13.3   \n",
      "16              0            0          0     ...      40.2   74.1   0.0   \n",
      "17              0            0          0     ...      49.7   79.4  23.5   \n",
      "18              0            0          0     ...      53.4   64.3   0.0   \n",
      "19              0            0          0     ...      33.3    NaN  40.0   \n",
      "20              0            0          0     ...      40.2   60.7  38.5   \n",
      "21              0            0          0     ...      41.5   84.9  33.2   \n",
      "22              0            0          0     ...      58.7   56.5   0.0   \n",
      "23              0            0          0     ...      44.9   77.2  28.2   \n",
      "24              0            0          0     ...      51.5   71.5   8.3   \n",
      "25              0            0          0     ...      41.5   71.3   NaN   \n",
      "26              0            0          0     ...      47.4   62.8   0.0   \n",
      "27              0            0          0     ...      45.0   82.5  38.6   \n",
      "28              0            0          0     ...      33.9   56.6  25.0   \n",
      "29              0            0          0     ...      48.4   74.1  31.2   \n",
      "...           ...          ...        ...     ...       ...    ...   ...   \n",
      "4622            0            0          0     ...      39.3   76.8  29.6   \n",
      "4623            0            0          0     ...      50.0  100.0  25.0   \n",
      "4624            0            0          0     ...      46.5   71.1  29.6   \n",
      "4625            0            0          0     ...      41.8   83.6  37.6   \n",
      "4626            0            0          0     ...      28.6   50.0   NaN   \n",
      "4627            0            0          0     ...      44.2   74.2  28.0   \n",
      "4628            0            0          0     ...      49.9   67.3  32.4   \n",
      "4629            0            0          0     ...      33.3   77.8   NaN   \n",
      "4630            0            0          0     ...      38.2   78.2  25.4   \n",
      "4631            0            0          0     ...      27.3    NaN   0.0   \n",
      "4632            1            0          0     ...      34.3   76.9   NaN   \n",
      "4633            0            0          0     ...      37.2   76.7   NaN   \n",
      "4634            0            0          0     ...      51.0   73.9  27.6   \n",
      "4635            0            0          0     ...      35.3   75.0   NaN   \n",
      "4636            0            0          0     ...      33.2   59.4   0.0   \n",
      "4637            0            0          0     ...      31.4   68.9   NaN   \n",
      "4638            0            0          0     ...      34.6    NaN  20.0   \n",
      "4639            0            0          0     ...      50.8   76.4  29.4   \n",
      "4640            0            0          0     ...      28.6  100.0   NaN   \n",
      "4641            0            0          0     ...      55.6    0.0   NaN   \n",
      "4642            0            0          0     ...      41.7   73.5  38.5   \n",
      "4643            0            0          0     ...      40.8   78.3  25.0   \n",
      "4644            0            0          0     ...      66.7    NaN   NaN   \n",
      "4645            0            0          0     ...      32.3   60.0   NaN   \n",
      "4646            0            0          0     ...      37.1   76.9  33.5   \n",
      "4647            0            0          0     ...      59.3   66.1   NaN   \n",
      "4648            0            0          0     ...      20.0    NaN   NaN   \n",
      "4649            0            0          0     ...      36.3   55.6   NaN   \n",
      "4650            0            0          0     ...      53.8   72.2   0.0   \n",
      "4651            0            0          0     ...      30.3   70.6   NaN   \n",
      "\n",
      "       EF%  DRTG ORTG  VORP    BPM    EFF  Win_Shares  \n",
      "0     50.2   106  101  -2.3   -4.8   13.0         4.8  \n",
      "1      NaN    96   93   2.1   -0.1   15.1        17.5  \n",
      "2     55.9    99  115  86.0    5.8   24.6       273.4  \n",
      "3     47.2   111  106  -0.7   -2.2   15.4        25.2  \n",
      "4     42.2   105   95  -1.5   -3.2   11.4         3.5  \n",
      "5     47.9   107  108  21.1    0.9   19.0        71.2  \n",
      "6     49.2   103  114   2.5   -0.2   12.9        13.4  \n",
      "7      NaN   NaN  NaN   NaN    NaN  -41.1         0.0  \n",
      "8      NaN   NaN  NaN   NaN    NaN    NaN        -1.9  \n",
      "9     52.6   110  112  -0.3   -2.4    8.9         5.2  \n",
      "10    41.3   112   88  -0.3   -6.9    8.5        -0.2  \n",
      "11     NaN   NaN  NaN   NaN    NaN    1.0        -0.6  \n",
      "12    50.9   111  113   0.0   -2.0    9.0         9.3  \n",
      "13     NaN   NaN  NaN   NaN    NaN    9.5         0.1  \n",
      "14    51.7   109  109   0.4   -1.7   11.4         8.8  \n",
      "15    49.8   100  105  39.3    3.7   18.3        73.5  \n",
      "16    40.2    99   98   0.3   -1.8   10.7        11.7  \n",
      "17    49.9   107  103   0.8   -0.9   14.0         6.6  \n",
      "18    53.4   108  104  -0.3   -4.4   11.8         0.8  \n",
      "19    50.0   113  107   0.0   -3.9   10.4         0.0  \n",
      "20    45.7   100   95   0.1   -0.5   13.1         0.4  \n",
      "21    47.5   110  112  18.0    1.5   16.6        46.9  \n",
      "22    58.7   105  118  10.1    1.7   16.7        34.2  \n",
      "23    46.6   112  102  -3.0   -4.1   10.5         4.9  \n",
      "24    51.6   105  116   1.5    0.9   16.1         6.4  \n",
      "25     NaN    96  NaN  -0.2   -2.5   11.3        10.0  \n",
      "26    47.4   108  109  -0.3   -2.5   15.0         4.4  \n",
      "27    51.4   112  109   4.5   -1.1   11.9        33.5  \n",
      "28    36.8   111   79  -1.1  -10.4    2.8        -0.9  \n",
      "29    49.8   110  109  22.7    1.3   19.0        67.8  \n",
      "...    ...   ...  ...   ...    ...    ...         ...  \n",
      "4622  44.0   109   95  -0.9   -5.3   10.2         0.4  \n",
      "4623  55.0   105  118   0.0    6.0   31.3         0.1  \n",
      "4624  48.5   107  110   0.1   -1.4   15.5         1.1  \n",
      "4625  49.3   113  105  -5.8   -3.4   12.9        18.6  \n",
      "4626  28.6   107   74  -0.1   -6.0    3.0        -0.1  \n",
      "4627  46.2   107  101  -0.9   -2.9   11.5         5.2  \n",
      "4628  51.8   107  107  16.9    0.5   16.3        55.7  \n",
      "4629  33.3   110  103  -0.2   -7.9   11.7         0.2  \n",
      "4630  42.8   117   96  -0.8   -5.4   12.0        -0.7  \n",
      "4631  27.3   108   53  -0.1  -15.2   -8.6        -0.1  \n",
      "4632   NaN   NaN  NaN   NaN    NaN   13.5        48.3  \n",
      "4633   NaN   NaN  NaN   NaN    NaN   14.1         8.2  \n",
      "4634  51.2   104  114   5.5    0.8   15.3        22.8  \n",
      "4635   NaN   NaN  NaN   NaN    NaN    9.1        -0.1  \n",
      "4636  33.2   NaN  NaN   NaN    NaN    4.2        -1.9  \n",
      "4637   NaN   NaN  NaN   NaN    NaN    NaN         3.7  \n",
      "4638  36.5   112   86  -0.1  -10.4    5.6        -0.1  \n",
      "4639  51.1   108  111   0.8   -1.5   14.9        16.8  \n",
      "4640  28.6   100   55  -0.2  -12.1    0.2        -0.2  \n",
      "4641  55.6   110  100   0.0   -4.0   13.7         0.0  \n",
      "4642  48.5   107  103  -0.7   -4.3   14.2         2.1  \n",
      "4643  40.9   113  101  -1.9   -7.5    8.7         0.8  \n",
      "4644  66.7   108   88  -0.1   -9.7    5.5         0.0  \n",
      "4645  32.3   108   86  -0.1   -7.3    7.3         0.0  \n",
      "4646  44.8   110   90  -1.2   -4.8    6.1        -0.1  \n",
      "4647  59.3   113  115  -0.2   -3.4   17.5         1.1  \n",
      "4648  20.0   101   46   0.0   -7.3   -0.8        -0.1  \n",
      "4649   NaN   NaN  NaN   NaN    NaN    9.6        -0.1  \n",
      "4650  53.8   109  112   0.0   -1.9   16.9         2.8  \n",
      "4651   NaN   NaN  NaN   NaN    NaN    NaN         2.0  \n",
      "\n",
      "[4652 rows x 34 columns]\n"
     ]
    }
   ],
   "source": [
    "print(player)"
   ]
  },
  {
   "cell_type": "code",
   "execution_count": 13,
   "metadata": {},
   "outputs": [
    {
     "name": "stdout",
     "output_type": "stream",
     "text": [
      "4652\n"
     ]
    }
   ],
   "source": []
  },
  {
   "cell_type": "code",
   "execution_count": 17,
   "metadata": {},
   "outputs": [
    {
     "name": "stdout",
     "output_type": "stream",
     "text": [
      "140\n"
     ]
    }
   ],
   "source": [
    "print(len(player[(player['HoF']==1)]))"
   ]
  },
  {
   "cell_type": "code",
   "execution_count": 19,
   "metadata": {},
   "outputs": [
    {
     "name": "stdout",
     "output_type": "stream",
     "text": [
      "464\n"
     ]
    }
   ],
   "source": [
    "print(len(player[(player['Active']==1)]))"
   ]
  },
  {
   "cell_type": "code",
   "execution_count": 20,
   "metadata": {},
   "outputs": [
    {
     "name": "stdout",
     "output_type": "stream",
     "text": [
      "4188\n"
     ]
    }
   ],
   "source": [
    "print(len(player[(player['Active']==0)]))"
   ]
  },
  {
   "cell_type": "code",
   "execution_count": null,
   "metadata": {},
   "outputs": [],
   "source": []
  }
 ],
 "metadata": {
  "kernelspec": {
   "display_name": "Python 3",
   "language": "python",
   "name": "python3"
  },
  "language_info": {
   "codemirror_mode": {
    "name": "ipython",
    "version": 3
   },
   "file_extension": ".py",
   "mimetype": "text/x-python",
   "name": "python",
   "nbconvert_exporter": "python",
   "pygments_lexer": "ipython3",
   "version": "3.6.4"
  }
 },
 "nbformat": 4,
 "nbformat_minor": 2
}
